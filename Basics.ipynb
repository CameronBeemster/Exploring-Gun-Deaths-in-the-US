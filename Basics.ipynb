{
 "cells": [
  {
   "cell_type": "code",
   "execution_count": 78,
   "metadata": {
    "collapsed": false
   },
   "outputs": [
    {
     "name": "stdout",
     "output_type": "stream",
     "text": [
      "[['', 'year', 'month', 'intent', 'police', 'sex', 'age', 'race', 'hispanic', 'place', 'education'], ['1', '2012', '01', 'Suicide', '0', 'M', '34', 'Asian/Pacific Islander', '100', 'Home', '4'], ['2', '2012', '01', 'Suicide', '0', 'F', '21', 'White', '100', 'Street', '3'], ['3', '2012', '01', 'Suicide', '0', 'M', '60', 'White', '100', 'Other specified', '4'], ['4', '2012', '02', 'Suicide', '0', 'M', '64', 'White', '100', 'Home', '4']]\n"
     ]
    }
   ],
   "source": [
    "import csv\n",
    "f = open('guns.csv','r')\n",
    "file = csv.reader(f)\n",
    "guns_data = list(file)\n",
    "print(guns_data[:5])"
   ]
  },
  {
   "cell_type": "code",
   "execution_count": 79,
   "metadata": {
    "collapsed": false
   },
   "outputs": [
    {
     "name": "stdout",
     "output_type": "stream",
     "text": [
      "['', 'year', 'month', 'intent', 'police', 'sex', 'age', 'race', 'hispanic', 'place', 'education']\n",
      "[['1', '2012', '01', 'Suicide', '0', 'M', '34', 'Asian/Pacific Islander', '100', 'Home', '4'], ['2', '2012', '01', 'Suicide', '0', 'F', '21', 'White', '100', 'Street', '3'], ['3', '2012', '01', 'Suicide', '0', 'M', '60', 'White', '100', 'Other specified', '4'], ['4', '2012', '02', 'Suicide', '0', 'M', '64', 'White', '100', 'Home', '4'], ['5', '2012', '02', 'Suicide', '0', 'M', '31', 'White', '100', 'Other specified', '2'], ['6', '2012', '02', 'Suicide', '0', 'M', '17', 'Native American/Native Alaskan', '100', 'Home', '1'], ['7', '2012', '02', 'Undetermined', '0', 'M', '48', 'White', '100', 'Home', '2'], ['8', '2012', '03', 'Suicide', '0', 'M', '41', 'Native American/Native Alaskan', '100', 'Home', '2'], ['9', '2012', '02', 'Accidental', '0', 'M', '50', 'White', '100', 'Other specified', '3'], ['10', '2012', '02', 'Suicide', '0', 'M', 'NA', 'Black', '998', 'Home', '5']]\n"
     ]
    }
   ],
   "source": [
    "header = guns_data[0]\n",
    "guns_data = guns_data[1:]\n",
    "print(header)\n",
    "print(guns_data[:10])"
   ]
  },
  {
   "cell_type": "code",
   "execution_count": 80,
   "metadata": {
    "collapsed": false
   },
   "outputs": [
    {
     "name": "stdout",
     "output_type": "stream",
     "text": [
      "{'2014': 33599, '2012': 33563, '2013': 33636}\n"
     ]
    }
   ],
   "source": [
    "years = [row[1] for row in guns_data]\n",
    "year_counts = {}\n",
    "for year in years:\n",
    "    if year in year_counts:\n",
    "        year_counts[year] += 1\n",
    "    else:\n",
    "        year_counts[year] = 1\n",
    "print(year_counts)"
   ]
  },
  {
   "cell_type": "code",
   "execution_count": 81,
   "metadata": {
    "collapsed": false
   },
   "outputs": [
    {
     "name": "stdout",
     "output_type": "stream",
     "text": [
      "{datetime.datetime(2013, 8, 1, 0, 0): 2859, datetime.datetime(2013, 7, 1, 0, 0): 3079, datetime.datetime(2012, 3, 1, 0, 0): 2743, datetime.datetime(2014, 3, 1, 0, 0): 2684, datetime.datetime(2012, 7, 1, 0, 0): 3026, datetime.datetime(2014, 9, 1, 0, 0): 2914, datetime.datetime(2014, 7, 1, 0, 0): 2884, datetime.datetime(2013, 4, 1, 0, 0): 2798, datetime.datetime(2013, 2, 1, 0, 0): 2375, datetime.datetime(2013, 12, 1, 0, 0): 2765, datetime.datetime(2014, 1, 1, 0, 0): 2651, datetime.datetime(2012, 6, 1, 0, 0): 2826, datetime.datetime(2014, 11, 1, 0, 0): 2756, datetime.datetime(2013, 3, 1, 0, 0): 2862, datetime.datetime(2012, 9, 1, 0, 0): 2852, datetime.datetime(2013, 10, 1, 0, 0): 2808, datetime.datetime(2014, 10, 1, 0, 0): 2865, datetime.datetime(2014, 2, 1, 0, 0): 2361, datetime.datetime(2012, 1, 1, 0, 0): 2758, datetime.datetime(2014, 4, 1, 0, 0): 2862, datetime.datetime(2013, 5, 1, 0, 0): 2806, datetime.datetime(2012, 10, 1, 0, 0): 2733, datetime.datetime(2012, 4, 1, 0, 0): 2795, datetime.datetime(2013, 1, 1, 0, 0): 2864, datetime.datetime(2012, 12, 1, 0, 0): 2791, datetime.datetime(2012, 11, 1, 0, 0): 2729, datetime.datetime(2013, 9, 1, 0, 0): 2742, datetime.datetime(2012, 2, 1, 0, 0): 2357, datetime.datetime(2013, 6, 1, 0, 0): 2920, datetime.datetime(2014, 12, 1, 0, 0): 2857, datetime.datetime(2014, 5, 1, 0, 0): 2864, datetime.datetime(2012, 5, 1, 0, 0): 2999, datetime.datetime(2014, 8, 1, 0, 0): 2970, datetime.datetime(2012, 8, 1, 0, 0): 2954, datetime.datetime(2014, 6, 1, 0, 0): 2931, datetime.datetime(2013, 11, 1, 0, 0): 2758}\n"
     ]
    }
   ],
   "source": [
    "import datetime\n",
    "dates = [datetime.datetime(int(row[1]),int(row[2]),day=1) for row in guns_data]\n",
    "date_counts = {}\n",
    "for date in dates:\n",
    "    if date in date_counts:\n",
    "        date_counts[date] += 1\n",
    "    else:\n",
    "        date_counts[date] = 1\n",
    "print(date_counts)"
   ]
  },
  {
   "cell_type": "code",
   "execution_count": 82,
   "metadata": {
    "collapsed": false
   },
   "outputs": [
    {
     "name": "stdout",
     "output_type": "stream",
     "text": [
      "{'Asian/Pacific Islander': 1326, 'Black': 23296, 'White': 66237, 'Hispanic': 9022, 'Native American/Native Alaskan': 917} {'F': 14449, 'M': 86349}\n"
     ]
    }
   ],
   "source": [
    "sex_counts = {}\n",
    "for row in guns_data:\n",
    "    sex = row[5]\n",
    "    if sex in sex_counts:\n",
    "        sex_counts[sex] += 1\n",
    "    else:\n",
    "        sex_counts[sex] = 1\n",
    "        \n",
    "race_counts = {}\n",
    "for row in guns_data:\n",
    "    race = row[7]\n",
    "    if race in race_counts:\n",
    "        race_counts[race] += 1\n",
    "    else:\n",
    "        race_counts[race] = 1\n",
    "print(race_counts, sex_counts)\n",
    "        "
   ]
  },
  {
   "cell_type": "code",
   "execution_count": 83,
   "metadata": {
    "collapsed": false
   },
   "outputs": [
    {
     "name": "stdout",
     "output_type": "stream",
     "text": [
      "[['Id', 'Year', 'Id', 'Sex', 'Id', 'Hispanic Origin', 'Id', 'Id2', 'Geography', 'Total', 'Race Alone - White', 'Race Alone - Hispanic', 'Race Alone - Black or African American', 'Race Alone - American Indian and Alaska Native', 'Race Alone - Asian', 'Race Alone - Native Hawaiian and Other Pacific Islander', 'Two or More Races'], ['cen42010', 'April 1, 2010 Census', 'totsex', 'Both Sexes', 'tothisp', 'Total', '0100000US', '', 'United States', '308745538', '197318956', '44618105', '40250635', '3739506', '15159516', '674625', '6984195']]\n"
     ]
    }
   ],
   "source": [
    "f = open('census.csv', 'r')\n",
    "file = csv.reader(f)\n",
    "census = list(file)\n",
    "print(census)\n"
   ]
  },
  {
   "cell_type": "code",
   "execution_count": 84,
   "metadata": {
    "collapsed": false
   },
   "outputs": [
    {
     "name": "stdout",
     "output_type": "stream",
     "text": [
      "{'Asian/Pacific Islander': 15834141, 'Black': 40250635, 'White': 197318956, 'Hispanic': 44618105, 'Native American/Native Alaskan': 3739506}\n",
      "{'Asian/Pacific Islander': 1326, 'Black': 23296, 'White': 66237, 'Hispanic': 9022, 'Native American/Native Alaskan': 917}\n"
     ]
    }
   ],
   "source": [
    "mapping = {}\n",
    "census = census[1]\n",
    "mapping['Asian/Pacific Islander'] = int(census[14]) + int(census[15])\n",
    "\n",
    "mapping['Black'] = int(census[12])\n",
    "\n",
    "mapping['Hispanic'] = int(census[11])\n",
    "\n",
    "mapping['Native American/Native Alaskan'] = int(census[13])\n",
    "\n",
    "mapping['White'] = int(census[10])\n",
    "\n",
    "print(mapping)\n",
    "print(race_counts)\n"
   ]
  },
  {
   "cell_type": "code",
   "execution_count": 85,
   "metadata": {
    "collapsed": false
   },
   "outputs": [
    {
     "name": "stdout",
     "output_type": "stream",
     "text": [
      "{'Asian/Pacific Islander': 8.374309664161762, 'Black': 57.8773477735196, 'White': 33.56849303419181, 'Hispanic': 20.220491210910907, 'Native American/Native Alaskan': 24.521955573811088}\n"
     ]
    }
   ],
   "source": [
    "race_per_hundredk = {}\n",
    "for race in race_counts:\n",
    "    total = (race_counts[race] / mapping[race]) * 100000\n",
    "    race_per_hundredk[race] = total\n",
    "print(race_per_hundredk)"
   ]
  },
  {
   "cell_type": "code",
   "execution_count": 87,
   "metadata": {
    "collapsed": false
   },
   "outputs": [],
   "source": [
    "intents = [gun_death[3] for gun_death in guns_data]\n",
    "races = [gun_death[7] for gun_death in guns_data]\n",
    "homicide_race_counts = {}\n",
    "    "
   ]
  },
  {
   "cell_type": "code",
   "execution_count": 88,
   "metadata": {
    "collapsed": false
   },
   "outputs": [
    {
     "name": "stdout",
     "output_type": "stream",
     "text": [
      "{'Asian/Pacific Islander': 559, 'Black': 19510, 'White': 9147, 'Hispanic': 5634, 'Native American/Native Alaskan': 326}\n"
     ]
    }
   ],
   "source": [
    "for i,race in enumerate(races):\n",
    "    if intents[i] == 'Homicide':\n",
    "        if race in homicide_race_counts:\n",
    "            homicide_race_counts[race] += 1\n",
    "        else:\n",
    "            homicide_race_counts[race] = 1\n",
    "print(homicide_race_counts)"
   ]
  },
  {
   "cell_type": "code",
   "execution_count": 90,
   "metadata": {
    "collapsed": false
   },
   "outputs": [
    {
     "name": "stdout",
     "output_type": "stream",
     "text": [
      "{'Asian/Pacific Islander': 3.530346230970155, 'Black': 48.471284987180944, 'White': 4.6356417981453335, 'Hispanic': 12.627161104219914, 'Native American/Native Alaskan': 8.717729026240365}\n"
     ]
    }
   ],
   "source": [
    "for race in homicide_race_counts:\n",
    "    total = (homicide_race_counts[race] / mapping[race]) * 100000\n",
    "    homicide_race_counts[race] = total\n",
    "\n",
    "print(homicide_race_counts)    "
   ]
  },
  {
   "cell_type": "markdown",
   "metadata": {},
   "source": [
    "# __Conclusion__\n",
    "\n",
    "### Findings\n",
    "\n",
    "Based on my analysis on gun deaths between 2012 and 2014, it appears that _Black/African-American_ individuals are killed by guns the most in America per 100,000 (57.8 people), followed by _White_ individuals (33.6 people). Similarly, when looking at homicide-only gun deaths _Black/African-American_ individuals were killed four times more per 100,000 (48.5 people) than the next highest demographic (_Hispanic_: 12.6 people).\n",
    "\n",
    "### Possible Next Steps\n",
    "\n",
    "After this initial analysis of gun deaths in America from 2012 to 2014, I would like to explore the education level and age of the victims to see what percentage of them had were in grade school at the time of death. Dividing this number into racial categories can also paint a picture into which demographic was exposed to guns more during adolescence from 2012-2014.\n",
    "\n",
    "Exploring age, race, and education level in suicide-victims, both exclusively and together, is another step I would like to persue as that analysis could generate a high-level insight into the likelihood of suicide "
   ]
  },
  {
   "cell_type": "markdown",
   "metadata": {},
   "source": []
  }
 ],
 "metadata": {
  "kernelspec": {
   "display_name": "Python 3",
   "language": "python",
   "name": "python3"
  },
  "language_info": {
   "codemirror_mode": {
    "name": "ipython",
    "version": 3
   },
   "file_extension": ".py",
   "mimetype": "text/x-python",
   "name": "python",
   "nbconvert_exporter": "python",
   "pygments_lexer": "ipython3",
   "version": "3.4.3"
  }
 },
 "nbformat": 4,
 "nbformat_minor": 0
}
